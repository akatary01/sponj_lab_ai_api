{
 "cells": [
  {
   "cell_type": "code",
   "execution_count": 1,
   "metadata": {},
   "outputs": [],
   "source": [
    "import sys \n",
    "import pymeshlab\n",
    "sys.path.append(f\"../\")\n",
    "from utils import BASE_DIR\n",
    "from utils.mesh import SponjMesh\n",
    "\n",
    "meshes_dir = f\"{BASE_DIR.parent}/backend/3d_models\""
   ]
  },
  {
   "cell_type": "code",
   "execution_count": null,
   "metadata": {},
   "outputs": [],
   "source": [
    "# mesh_name = \"pumpkin\"\n",
    "# mesh_dir = f\"{meshes_dir}/{mesh_name}\"\n",
    "obj_path = f\"/home/farazfaruqi/TRELLIS/api_out/mesh.glb\"\n",
    "# glb_path = f\"{mesh_dir}/{mesh_name}_1.glb\"\n",
    "\n",
    "mesh = SponjMesh(obj_path)\n",
    "save_path = f\"/home/sponj/sponj/ai_api/demo/out.obj\""
   ]
  },
  {
   "cell_type": "code",
   "execution_count": 3,
   "metadata": {},
   "outputs": [
    {
     "name": "stdout",
     "output_type": "stream",
     "text": [
      "Face shape: (1000, 3)\n",
      "Vertex shape: (497, 3)\n"
     ]
    }
   ],
   "source": [
    "# mesh.fill_holes(maxholesize=100)\n",
    "mesh.get_largest_cc() \n",
    "mesh.decimate(targetfacenum=1000, save_path=save_path)\n",
    "print(f\"Face shape: {mesh.face_shape}\")\n",
    "print(f\"Vertex shape: {mesh.vertex_shape}\")"
   ]
  },
  {
   "cell_type": "code",
   "execution_count": null,
   "metadata": {},
   "outputs": [
    {
     "name": "stdout",
     "output_type": "stream",
     "text": [
      "Saved gif to /home/sponj/sponj/backend/media/mesh_gifs/generated_model.gif\n"
     ]
    }
   ],
   "source": [
    "gif_path = f\"/home/sponj/sponj/ai_api/demo/generated_model.gif\"\n",
    "mesh.generate_gif(gif_path, mesh_path=save_path, frames=12, save_kwargs={\"facecolor\": \"#887e7e\"})\n",
    "print(f\"Saved gif to {gif_path}\")"
   ]
  },
  {
   "cell_type": "code",
   "execution_count": null,
   "metadata": {},
   "outputs": [],
   "source": []
  }
 ],
 "metadata": {
  "kernelspec": {
   "display_name": "sponj_ai_env",
   "language": "python",
   "name": "python3"
  },
  "language_info": {
   "codemirror_mode": {
    "name": "ipython",
    "version": 3
   },
   "file_extension": ".py",
   "mimetype": "text/x-python",
   "name": "python",
   "nbconvert_exporter": "python",
   "pygments_lexer": "ipython3",
   "version": "3.12.3"
  }
 },
 "nbformat": 4,
 "nbformat_minor": 2
}
