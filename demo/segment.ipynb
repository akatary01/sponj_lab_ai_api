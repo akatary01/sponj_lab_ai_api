{
 "cells": [
  {
   "cell_type": "code",
   "execution_count": 1,
   "metadata": {},
   "outputs": [],
   "source": [
    "import sys \n",
    "from tqdm import tqdm\n",
    "sys.path.append(f\"../\")\n",
    "from utils import BASE_DIR\n",
    "from utils.segment import SegmentedSponjMesh\n",
    "\n",
    "meshes_dir = f\"{BASE_DIR}/demo\""
   ]
  },
  {
   "cell_type": "code",
   "execution_count": null,
   "metadata": {},
   "outputs": [],
   "source": [
    "mesh_name = \"chair\"\n",
    "mesh_dir = f\"{meshes_dir}/in\"\n",
    "obj_path = f\"{mesh_dir}/{mesh_name}.obj\"\n",
    "\n",
    "segmented_mesh = SegmentedSponjMesh(obj_path)"
   ]
  },
  {
   "cell_type": "code",
   "execution_count": null,
   "metadata": {},
   "outputs": [],
   "source": [
    "segmented_mesh.clear_log()\n",
    "labels, n, duration = segmented_mesh.segment(k=15, visualize=True)\n",
    "print(f\"Segmented mesh into {n} segments in {duration} seconds\")"
   ]
  }
 ],
 "metadata": {
  "kernelspec": {
   "display_name": "sponj_ai_env",
   "language": "python",
   "name": "python3"
  },
  "language_info": {
   "codemirror_mode": {
    "name": "ipython",
    "version": 3
   },
   "file_extension": ".py",
   "mimetype": "text/x-python",
   "name": "python",
   "nbconvert_exporter": "python",
   "pygments_lexer": "ipython3",
   "version": "3.12.3"
  }
 },
 "nbformat": 4,
 "nbformat_minor": 2
}
