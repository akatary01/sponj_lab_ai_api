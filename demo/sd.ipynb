{
 "cells": [
  {
   "cell_type": "code",
   "execution_count": null,
   "metadata": {},
   "outputs": [],
   "source": [
    "import sys \n",
    "sys.path.append(f\"../\")\n",
    "from PIL import Image\n",
    "from clients.sd import SDCliet\n",
    "from utils import BASE_DIR, display\n",
    "from clients.openai import OpenAIClient\n",
    "\n",
    "in_dir = f\"{BASE_DIR}/demo/in\"\n",
    "out_dir = f\"{BASE_DIR}/demo/out\""
   ]
  },
  {
   "cell_type": "code",
   "execution_count": null,
   "metadata": {},
   "outputs": [],
   "source": [
    "sd_client = SDCliet()\n",
    "openai_client = OpenAIClient()"
   ]
  },
  {
   "cell_type": "code",
   "execution_count": null,
   "metadata": {},
   "outputs": [],
   "source": [
    "img_path = f\"{in_dir}/gen_2.png\"\n",
    "img = Image.open(img_path)"
   ]
  },
  {
   "cell_type": "code",
   "execution_count": null,
   "metadata": {},
   "outputs": [],
   "source": [
    "# caption = openai_client.caption(img)\n",
    "caption = \"A brown-capped mushroom stands proudly on a slender white stem. Earthy tones suggest a natural, organic feel, invoking a sense of simplicity and purity.\""
   ]
  },
  {
   "cell_type": "code",
   "execution_count": null,
   "metadata": {},
   "outputs": [],
   "source": [
    "print(caption)"
   ]
  },
  {
   "cell_type": "code",
   "execution_count": null,
   "metadata": {},
   "outputs": [],
   "source": [
    "# structured_img = sd_client.structure(img, f\"{caption}. high resolution, 8k, photorealistic\")\n",
    "# structured_img.save(f\"{out_dir}/pumpkin.png\")\n",
    "structured_img = Image.open(f\"{out_dir}/pumpkin.png\")"
   ]
  },
  {
   "cell_type": "code",
   "execution_count": null,
   "metadata": {},
   "outputs": [],
   "source": [
    "# no_bg_img = sd_client.remove_bg(structured_img.resize((512, int(structured_img.height/structured_img.width*512))))\n",
    "# no_bg_img.save(f\"{out_dir}/pumpkin_no_bg.png\")\n",
    "no_bg_img = Image.open(f\"{out_dir}/pumpkin_no_bg.png\")"
   ]
  },
  {
   "cell_type": "code",
   "execution_count": null,
   "metadata": {},
   "outputs": [],
   "source": [
    "display([\n",
    "    {\n",
    "        \"img\": structured_img,\n",
    "        \"label\": \"\"\n",
    "    },\n",
    "    {\n",
    "        \"img\": no_bg_img,\n",
    "        \"label\": \"\"\n",
    "    }\n",
    "], 1, w=4, h=4)"
   ]
  },
  {
   "cell_type": "code",
   "execution_count": null,
   "metadata": {},
   "outputs": [],
   "source": []
  }
 ],
 "metadata": {
  "kernelspec": {
   "display_name": "sponj_ai",
   "language": "python",
   "name": "python3"
  },
  "language_info": {
   "codemirror_mode": {
    "name": "ipython",
    "version": 3
   },
   "file_extension": ".py",
   "mimetype": "text/x-python",
   "name": "python",
   "nbconvert_exporter": "python",
   "pygments_lexer": "ipython3",
   "version": "3.10.14"
  }
 },
 "nbformat": 4,
 "nbformat_minor": 2
}
